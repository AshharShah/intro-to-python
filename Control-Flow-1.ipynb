{
 "cells": [
  {
   "cell_type": "markdown",
   "id": "515b9240-fd5f-4725-a395-44bbcb412843",
   "metadata": {},
   "source": [
    "# Control Flow in Python\n",
    "There comes situations in real life when we need to make some decisions and based on these decisions, we decide what should we do next. Similar situations arise in programming also where we need to make some decisions and based on these decisions we will execute the next block of code. Decision-making statements in programming languages decide the direction of the flow of program execution."
   ]
  },
  {
   "cell_type": "markdown",
   "id": "45a3e4f1-f204-4533-aa8b-fe33e866947d",
   "metadata": {},
   "source": [
    "<hr>\n",
    "\n",
    "## if Statement\n",
    "if statement is the most simple decision-making statement. It is used to decide whether a certain statement or block of statements will be executed or not i.e if a certain condition is true then a block of statement is executed otherwise not."
   ]
  },
  {
   "cell_type": "code",
   "execution_count": null,
   "id": "22c9f143-008a-404d-a6e8-124655dcea27",
   "metadata": {},
   "outputs": [
    {
     "name": "stdout",
     "output_type": "stream",
     "text": [
      "I am Not in if\n"
     ]
    }
   ],
   "source": [
    "# python program to illustrate If statement\n",
    "i = 10\n",
    "\n",
    "if (i > 15):\n",
    "    print(\"10 is less than 15\")\n",
    "print(\"I am Not in if\")"
   ]
  },
  {
   "cell_type": "code",
   "execution_count": 2,
   "id": "4572a0cb-29a6-49e5-9799-cfbc3d21d560",
   "metadata": {},
   "outputs": [
    {
     "name": "stdout",
     "output_type": "stream",
     "text": [
      "10 is less than 15\n",
      "I am Not in if\n"
     ]
    }
   ],
   "source": [
    "# if we change the value of i\n",
    "i = 20\n",
    "\n",
    "if (i > 15):\n",
    "    print(\"10 is less than 15\")\n",
    "print(\"I am Not in if\")"
   ]
  },
  {
   "cell_type": "markdown",
   "id": "7d69982f-ab27-4502-a943-504b9a370bf1",
   "metadata": {},
   "source": [
    "<hr>"
   ]
  },
  {
   "cell_type": "markdown",
   "id": "df17d2d7-99a7-4652-87fa-588b4918ae01",
   "metadata": {},
   "source": [
    "## if-else Statement\n",
    "The if statement alone tells us that if a condition is true it will execute a block of statements and if the condition is false it won’t. But what if we want to do something else if the condition is false. Here comes the else statement. We can use the else statement with if statement to execute a block of code when the condition is false. "
   ]
  },
  {
   "cell_type": "code",
   "execution_count": 7,
   "id": "86d2da55-7cb2-422a-bb90-02b342eb72fb",
   "metadata": {},
   "outputs": [
    {
     "name": "stdout",
     "output_type": "stream",
     "text": [
      "i is greater than 15\n",
      "i'm in else Block\n"
     ]
    }
   ],
   "source": [
    "# python program to illustrate If else statement\n",
    "  \n",
    "i = 20\n",
    "if (i < 15):\n",
    "    print(\"i is smaller than 15\")\n",
    "    print(\"i'm in if Block\")\n",
    "else:\n",
    "    print(\"i is greater than 15\")\n",
    "    print(\"i'm in else Block\")"
   ]
  },
  {
   "cell_type": "markdown",
   "id": "42c9a0e0-3142-4412-9bc0-c552541f3b34",
   "metadata": {},
   "source": [
    "<hr>"
   ]
  },
  {
   "cell_type": "markdown",
   "id": "a4c65354-a7ae-46b4-929a-4debcbc172f4",
   "metadata": {},
   "source": [
    "## if-elif-else ladder\n",
    "Here, a user can decide among multiple options. The if statements are executed from the top down. As soon as one of the conditions controlling the if is true, the statement associated with that if is executed, and the rest of the ladder is bypassed. If none of the conditions is true, then the final else statement will be executed."
   ]
  },
  {
   "cell_type": "code",
   "execution_count": 10,
   "id": "5ae789b1-0236-42c9-9a6f-45b1164c3223",
   "metadata": {},
   "outputs": [
    {
     "name": "stdout",
     "output_type": "stream",
     "text": [
      "i is 20\n"
     ]
    }
   ],
   "source": [
    "# Python program to illustrate if-elif-else ladder\n",
    "i = 20\n",
    "\n",
    "if (i == 10):\n",
    "    print(\"i is 10\")\n",
    "elif (i == 15):\n",
    "    print(\"i is 15\")\n",
    "elif (i == 20):\n",
    "    print(\"i is 20\")\n",
    "else:\n",
    "    print(\"i is not present\")"
   ]
  },
  {
   "cell_type": "code",
   "execution_count": null,
   "id": "4fe6961c-46a0-428b-b9dc-d4cf88165e12",
   "metadata": {},
   "outputs": [],
   "source": []
  }
 ],
 "metadata": {
  "kernelspec": {
   "display_name": "Python 3 (ipykernel)",
   "language": "python",
   "name": "python3"
  },
  "language_info": {
   "codemirror_mode": {
    "name": "ipython",
    "version": 3
   },
   "file_extension": ".py",
   "mimetype": "text/x-python",
   "name": "python",
   "nbconvert_exporter": "python",
   "pygments_lexer": "ipython3",
   "version": "3.10.6"
  }
 },
 "nbformat": 4,
 "nbformat_minor": 5
}
