{
 "cells": [
  {
   "cell_type": "markdown",
   "id": "982efef1-c922-4405-98ff-cf947ab8c48f",
   "metadata": {},
   "source": [
    "## Python For Loops\n",
    "1) Python For loop is used for sequential traversal i.e. it is used for iterating over an iterable like String, Tuple, List, Set or Dictionary.\n",
    "2) In Python, there is no C style for loop, i.e., for (i=0; i<n; i++). There is “for” loop which is similar to each loop in other languages"
   ]
  },
  {
   "cell_type": "markdown",
   "id": "a746c430-0dc2-49a4-b9d0-f0e769bf31e7",
   "metadata": {},
   "source": [
    "<img src=\"https://media.geeksforgeeks.org/wp-content/uploads/20191101172216/for-loop-python.jpg\">"
   ]
  },
  {
   "cell_type": "code",
   "execution_count": 6,
   "id": "e14ac2f5-6123-44a7-b044-6adf1f2e9c15",
   "metadata": {},
   "outputs": [
    {
     "name": "stdout",
     "output_type": "stream",
     "text": [
      "0\n",
      "1\n",
      "2\n",
      "3\n",
      "4\n",
      "5\n",
      "6\n",
      "7\n",
      "8\n",
      "9\n"
     ]
    }
   ],
   "source": [
    "# Python Program to\n",
    "# show range()+loop basics\n",
    " \n",
    "# printing a number\n",
    "for i in range(10):\n",
    "    print(i)"
   ]
  },
  {
   "cell_type": "code",
   "execution_count": 8,
   "id": "6468cfe8-1f5f-4958-ab99-6be3507e064b",
   "metadata": {},
   "outputs": [
    {
     "name": "stdout",
     "output_type": "stream",
     "text": [
      "String Iteration\n",
      "H\n",
      "e\n",
      "l\n",
      "l\n",
      "o\n"
     ]
    }
   ],
   "source": [
    "# Iterating over a String\n",
    "print(\"String Iteration\")\n",
    "s = \"Hello\"\n",
    "for i in s:\n",
    "    print(i)"
   ]
  },
  {
   "cell_type": "code",
   "execution_count": 9,
   "id": "27a5eb77-e533-4d9f-8cb1-90b6191f7aa5",
   "metadata": {},
   "outputs": [
    {
     "name": "stdout",
     "output_type": "stream",
     "text": [
      "A\n",
      "C\n",
      "M\n"
     ]
    }
   ],
   "source": [
    "# Python program to illustrate\n",
    "# Iterating over a list\n",
    "l = [\"A\", \"C\", \"M\"]\n",
    "for i in l:\n",
    "    print(i)"
   ]
  },
  {
   "cell_type": "markdown",
   "id": "43cdcc49-9933-4621-a891-2f80a8e78e8a",
   "metadata": {},
   "source": [
    "# Python While Loop\n",
    "Python While Loop is used to execute a block of statements repeatedly until a given condition is satisfied. And when the condition becomes false, the line immediately after the loop in the program is executed."
   ]
  },
  {
   "cell_type": "markdown",
   "id": "5725b403-635e-48f0-949a-3fba8e839858",
   "metadata": {},
   "source": [
    "<img src=\"https://media.geeksforgeeks.org/wp-content/uploads/20191101170515/while-loop.jpg\">"
   ]
  },
  {
   "cell_type": "code",
   "execution_count": 11,
   "id": "e19b5ba5-5bca-4a4c-972b-6483e6bd050a",
   "metadata": {},
   "outputs": [
    {
     "name": "stdout",
     "output_type": "stream",
     "text": [
      "Hello World\n",
      "Hello World\n",
      "Hello World\n"
     ]
    }
   ],
   "source": [
    "# Python program to illustrate\n",
    "# while loop\n",
    "count = 0\n",
    "while (count < 3):\n",
    "    count = count + 1\n",
    "    print(\"Hello World\")"
   ]
  },
  {
   "cell_type": "markdown",
   "id": "3675ef53-ea05-40cd-8388-8faa68e25863",
   "metadata": {},
   "source": [
    "## Break Statement\n",
    "Python Break Statement brings control out of the loop."
   ]
  },
  {
   "cell_type": "code",
   "execution_count": 14,
   "id": "39284baf-0ae1-489a-9a48-c74e8f165726",
   "metadata": {},
   "outputs": [
    {
     "name": "stdout",
     "output_type": "stream",
     "text": [
      "Hello World\n",
      "Hello World\n",
      "Out of loop\n"
     ]
    }
   ],
   "source": [
    "# Python program to illustrate\n",
    "# while loop\n",
    "count = 0\n",
    "while (count < 5):\n",
    "    print(\"Hello World\")\n",
    "    count = count + 1\n",
    "    if(count == 2):\n",
    "        break\n",
    "print(\"Out of loop\")"
   ]
  }
 ],
 "metadata": {
  "kernelspec": {
   "display_name": "Python 3 (ipykernel)",
   "language": "python",
   "name": "python3"
  },
  "language_info": {
   "codemirror_mode": {
    "name": "ipython",
    "version": 3
   },
   "file_extension": ".py",
   "mimetype": "text/x-python",
   "name": "python",
   "nbconvert_exporter": "python",
   "pygments_lexer": "ipython3",
   "version": "3.10.6"
  }
 },
 "nbformat": 4,
 "nbformat_minor": 5
}
