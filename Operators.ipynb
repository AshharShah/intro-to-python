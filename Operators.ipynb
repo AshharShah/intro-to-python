{
 "cells": [
  {
   "cell_type": "markdown",
   "id": "be8db983-f6fc-4d26-b36a-1e07d861bf1d",
   "metadata": {},
   "source": [
    "# Operators in Python\n",
    "Operators are used to perform operations on variables and values.\n",
    "In the example below, we use the + operator to add together two values:"
   ]
  },
  {
   "cell_type": "code",
   "execution_count": 1,
   "id": "490bd647-7647-45bf-a0f2-59c7b79d17dc",
   "metadata": {},
   "outputs": [
    {
     "name": "stdout",
     "output_type": "stream",
     "text": [
      "15\n"
     ]
    }
   ],
   "source": [
    "print(10 + 5)"
   ]
  },
  {
   "cell_type": "markdown",
   "id": "cf01d48a-ab09-4acb-b664-4c1238cbfcb1",
   "metadata": {},
   "source": [
    "**Python divides the operators in the following groups:**\n",
    "1) Arithmetic operators\n",
    "2) Assignment operators\n",
    "3) Comparison operators\n",
    "4) Logical operators\n",
    "5) Identity operators\n",
    "6) Membership operators\n",
    "7) Bitwise operators"
   ]
  },
  {
   "cell_type": "markdown",
   "id": "2792641d-24e9-45a7-b9e5-672e9a1849a8",
   "metadata": {},
   "source": [
    "<hr>\n",
    "\n",
    "## Python Arithmetic Operators\n",
    "Arithmetic operators are used with numeric values to perform common mathematical operations:"
   ]
  },
  {
   "cell_type": "markdown",
   "id": "506dab62-6fcb-472d-92bf-6d36c35248bf",
   "metadata": {},
   "source": [
    "Operator | Name           | Example |\n",
    "|:----------:|:----------------:|:---------:|\n",
    "| +        | Addition       | x + y   |\n",
    "| -        | Subtraction    | x - y   |\n",
    "| *        | Multiplication | x * y   |\n",
    "| /        | Division | x / y   |\n",
    "| %        | Modulus | x % y   |\n",
    "| **        | Exponentiation | x ** y   |"
   ]
  },
  {
   "cell_type": "markdown",
   "id": "0537ab4b-9ac8-4524-b5f7-1811e794f041",
   "metadata": {},
   "source": [
    "### Addition\n",
    "Sums the given numbers"
   ]
  },
  {
   "cell_type": "code",
   "execution_count": null,
   "id": "31ad983d-2023-4fdf-ba15-d4e20b4efd3e",
   "metadata": {},
   "outputs": [],
   "source": [
    "print(10 + 5)"
   ]
  },
  {
   "cell_type": "markdown",
   "id": "a299adfe-5151-4a67-af1a-b4df3ae20595",
   "metadata": {},
   "source": [
    "### Subtraction\n",
    "Subtracts the given numbers"
   ]
  },
  {
   "cell_type": "code",
   "execution_count": null,
   "id": "cad9009b-973e-49d5-ad17-118f291542a4",
   "metadata": {},
   "outputs": [],
   "source": [
    "print(10 - 5)"
   ]
  },
  {
   "cell_type": "markdown",
   "id": "23a10e02-1224-41c5-9532-a31d31c00497",
   "metadata": {},
   "source": [
    "### Multiplication\n",
    "Finds the product of the numbers"
   ]
  },
  {
   "cell_type": "code",
   "execution_count": null,
   "id": "4b579914-da93-40e4-a1bb-f62c97363f59",
   "metadata": {},
   "outputs": [],
   "source": [
    "print(10 * 5)"
   ]
  },
  {
   "cell_type": "markdown",
   "id": "0e7aa8f1-52b4-4ea3-a2b1-70cbccb0cc96",
   "metadata": {},
   "source": [
    "### Division\n",
    "Divides the two numbers"
   ]
  },
  {
   "cell_type": "code",
   "execution_count": null,
   "id": "87cb8d0a-f3ff-4fcd-8c9d-7b12162bfa5a",
   "metadata": {},
   "outputs": [],
   "source": [
    "print(10 / 5)"
   ]
  },
  {
   "cell_type": "markdown",
   "id": "44911f8a-a917-4d8b-bab3-f1f44771a1f5",
   "metadata": {},
   "source": [
    "### Modulus\n",
    "Checks for remainder from dividing the two numbers"
   ]
  },
  {
   "cell_type": "code",
   "execution_count": null,
   "id": "2e67a274-8ee8-4a4b-a6be-9013f2f7d120",
   "metadata": {},
   "outputs": [],
   "source": [
    "print(10 % 5)"
   ]
  },
  {
   "cell_type": "markdown",
   "id": "248cf4e4-66c0-4bc9-b9c1-821f0146b6e2",
   "metadata": {},
   "source": [
    "### Exponentiation\n",
    "Raises one quantity to the power of another."
   ]
  },
  {
   "cell_type": "code",
   "execution_count": null,
   "id": "84e23209-6883-4c12-a981-537d571bd23e",
   "metadata": {},
   "outputs": [],
   "source": [
    "print(4 ** 2)"
   ]
  },
  {
   "cell_type": "markdown",
   "id": "077a9fa1-fac8-467f-98b7-49b9b8261e55",
   "metadata": {},
   "source": [
    "<hr>\n",
    "\n",
    "## Python Assignment Operators\n",
    "Assignment operators are used to assign values to variables:"
   ]
  },
  {
   "cell_type": "markdown",
   "id": "9940fe66-4f9b-4633-89c8-0f942db71058",
   "metadata": {},
   "source": [
    "Operator | Example           | Same As |\n",
    "|:----------:|:----------------:|:---------:|\n",
    "| =        | x = 3       | x = 3   |\n",
    "| +=        | x += 3    | x = x + 3   |\n",
    "| -=        | x -= 3 | x = x - 3   |"
   ]
  },
  {
   "cell_type": "markdown",
   "id": "9935d33f-ae3a-4c96-866c-09cfe2cd2a2c",
   "metadata": {},
   "source": [
    "**Example**"
   ]
  },
  {
   "cell_type": "code",
   "execution_count": null,
   "id": "d2d48bd7-640d-472c-a60e-6dd0f57c6947",
   "metadata": {},
   "outputs": [],
   "source": [
    "x = 1\n",
    "y = 2\n",
    "\n",
    "x += 4\n",
    "y -= 1\n",
    "\n",
    "print('Value of x: ', x)\n",
    "print('Value of y: ', y)"
   ]
  },
  {
   "cell_type": "markdown",
   "id": "e04e2150-245a-4bcb-be43-de1147c0a065",
   "metadata": {},
   "source": [
    "<hr>\n",
    "\n",
    "## Python Comparison Operators\n",
    "Comparison operators are used to compare two values:"
   ]
  },
  {
   "cell_type": "markdown",
   "id": "a5b8c3c4-3c9a-4e2b-94ff-7b956a50d123",
   "metadata": {},
   "source": [
    "Operator | Name           | Example |\n",
    "|:----------:|:----------------:|:---------:|\n",
    "| ==        | Equal       | x == y   |\n",
    "| !=        | Not-Equal    | x != y   |\n",
    "| >        | Greater Than | x > y   |\n",
    "| <        | Less Than | x < y   |\n",
    "| >=        | Greater Than or Equal To | x >= y   |\n",
    "| <=        | Less Than or Equal To | x <= y   |"
   ]
  },
  {
   "cell_type": "markdown",
   "id": "7081bccf-ebde-45de-ae7b-d5d7521b4afb",
   "metadata": {},
   "source": [
    "**Example**"
   ]
  },
  {
   "cell_type": "code",
   "execution_count": null,
   "id": "aa1efe04-20f0-41d5-ade7-4ce3c1a2976d",
   "metadata": {},
   "outputs": [],
   "source": [
    "x = 3\n",
    "y = 4\n",
    "print('x == y : ',x==y)\n",
    "print('x != y : ',x!=y)\n",
    "print('x > y : ',x>y)\n",
    "print('x < y : ',x<y)\n",
    "print('x >= y : ',x>=y)\n",
    "print('x <= y : ',x<=y)"
   ]
  },
  {
   "cell_type": "code",
   "execution_count": null,
   "id": "8a7e7dd1-7d56-4935-83fa-3e25465ae25f",
   "metadata": {},
   "outputs": [],
   "source": []
  }
 ],
 "metadata": {
  "kernelspec": {
   "display_name": "Python 3 (ipykernel)",
   "language": "python",
   "name": "python3"
  },
  "language_info": {
   "codemirror_mode": {
    "name": "ipython",
    "version": 3
   },
   "file_extension": ".py",
   "mimetype": "text/x-python",
   "name": "python",
   "nbconvert_exporter": "python",
   "pygments_lexer": "ipython3",
   "version": "3.10.6"
  }
 },
 "nbformat": 4,
 "nbformat_minor": 5
}
