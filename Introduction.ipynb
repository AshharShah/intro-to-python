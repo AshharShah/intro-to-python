{
 "cells": [
  {
   "cell_type": "markdown",
   "id": "eb8fe7a1-dded-45b2-b028-5a179fcb9938",
   "metadata": {},
   "source": [
    "# What is Python?\n",
    "\n",
    "Python is an interpreted, object-oriented, high-level programming language. Python's simple, easy to learn syntax emphasizes readability and therefore reduces the cost of program maintenance. Often, programmers fall in love with Python because of the increased productivity it provides. Since there is no compilation step, the edit-test-debug cycle is incredibly fast. "
   ]
  },
  {
   "cell_type": "markdown",
   "id": "82766e83-58f3-44ac-9186-fe6363b9ac68",
   "metadata": {},
   "source": [
    "<hr>\n",
    "\n",
    "# Python Syntax\n",
    "\n",
    "1) Python was designed to for easy readability, thus it has similarities to the English language with influence from mathematics.\n",
    "2) Python uses new lines to complete a command, as opposed to other programming languages which often use semicolons or parentheses.\n",
    "3) Python relies on indentation, using whitespace, to define scope; such as the scope of loops, functions and classes. Other programming languages often use curly-brackets for this purpose."
   ]
  },
  {
   "cell_type": "markdown",
   "id": "23d3cbd0-be48-46c7-85f0-1be5c825d5b7",
   "metadata": {},
   "source": [
    "### Python Indentations"
   ]
  },
  {
   "cell_type": "markdown",
   "id": "2ff7e83d-3ce2-4dbc-8968-1be9504e56da",
   "metadata": {},
   "source": [
    "Python uses indentation to indicate a block of code. See example below!"
   ]
  },
  {
   "cell_type": "code",
   "execution_count": 2,
   "id": "d6eb89b6-5cff-4328-adca-f3ee53904440",
   "metadata": {},
   "outputs": [
    {
     "name": "stdout",
     "output_type": "stream",
     "text": [
      "Five is greater than two!\n"
     ]
    }
   ],
   "source": [
    "if 5 > 2:\n",
    "  print(\"Five is greater than two!\")"
   ]
  },
  {
   "cell_type": "markdown",
   "id": "b89be5ce-ce9f-44f9-b01d-274f6cd213d0",
   "metadata": {},
   "source": [
    "### Python Comments\n",
    "Python has commenting capability for the purpose of in-code documentation.\n",
    "\n",
    "Use # to enter a comment."
   ]
  },
  {
   "cell_type": "code",
   "execution_count": 3,
   "id": "9ef51dff-1f11-4d98-8a0b-5aca3f052f8b",
   "metadata": {},
   "outputs": [
    {
     "name": "stdout",
     "output_type": "stream",
     "text": [
      "Hello, World!\n"
     ]
    }
   ],
   "source": [
    "#This is a comment.\n",
    "print(\"Hello, World!\")"
   ]
  },
  {
   "cell_type": "markdown",
   "id": "7bfee342-176b-42e9-81ac-31526797c5bb",
   "metadata": {},
   "source": [
    "<hr>\n",
    "\n",
    "# Python Variables"
   ]
  },
  {
   "cell_type": "markdown",
   "id": "331952a5-6825-44cd-9373-0f133ba21b45",
   "metadata": {},
   "source": [
    "1) Python has no command for declaring a variable.\n",
    "2) A variable is created the moment you first assign a value to it.\n",
    "3) Variables do not need to be declared with any particular type, and can even change type after they have been set."
   ]
  },
  {
   "cell_type": "markdown",
   "id": "0e8da365-48a9-4352-8265-2d9338c3ac5a",
   "metadata": {},
   "source": [
    "### Declaring Variables"
   ]
  },
  {
   "cell_type": "code",
   "execution_count": 4,
   "id": "3c9ed968-291d-4191-aae0-6bf2e32d815c",
   "metadata": {},
   "outputs": [
    {
     "name": "stdout",
     "output_type": "stream",
     "text": [
      "5\n",
      "John\n"
     ]
    }
   ],
   "source": [
    "x = 5\n",
    "y = \"John\"\n",
    "print(x)\n",
    "print(y)"
   ]
  },
  {
   "cell_type": "markdown",
   "id": "7ae08301-46c2-44ab-9b0f-0a3a4d681b70",
   "metadata": {},
   "source": [
    "### Changing Variable Type"
   ]
  },
  {
   "cell_type": "code",
   "execution_count": 5,
   "id": "7d91e993-923b-4ff9-bca0-c3518b4acf8d",
   "metadata": {},
   "outputs": [
    {
     "name": "stdout",
     "output_type": "stream",
     "text": [
      "Sally\n"
     ]
    }
   ],
   "source": [
    "x = 4       # x is of type int\n",
    "x = \"Sally\" # x is now of type str\n",
    "print(x)"
   ]
  },
  {
   "cell_type": "markdown",
   "id": "501bf271-46c3-46ad-867b-ba865988734c",
   "metadata": {},
   "source": [
    "### Casting\n",
    "If you want to specify the data type of a variable, this can be done with casting."
   ]
  },
  {
   "cell_type": "code",
   "execution_count": 6,
   "id": "2ce354b1-e8f8-4a3b-8bbd-17792fd52d32",
   "metadata": {},
   "outputs": [],
   "source": [
    "x = str(3)    # x will be '3'\n",
    "y = int(3)    # y will be 3\n",
    "z = float(3)  # z will be 3.0"
   ]
  },
  {
   "cell_type": "markdown",
   "id": "5de7b83c-f28a-4a1c-81f0-28e19910f3f9",
   "metadata": {},
   "source": [
    "<hr>\n",
    "\n",
    "# Python Data-Types"
   ]
  },
  {
   "cell_type": "markdown",
   "id": "98017a8c-c451-4962-a158-2eccf5023061",
   "metadata": {},
   "source": [
    "Built-in Data Types\n",
    "In programming, data type is an important concept.\n",
    "\n",
    "Variables can store data of different types, and different types can do different things.\n",
    "\n",
    "Python has the following data types built-in by default, in these categories:\n",
    "\n",
    "**Text Type:**\tstr\n",
    "\n",
    "**Numeric Types:**\tint, float, complex\n",
    "\n",
    "**Sequence Types:**\tlist, tuple, range\n",
    "\n",
    "**Mapping Type:**\tdict\n",
    "\n",
    "**Set Types:**\tset, frozenset\n",
    "\n",
    "**Boolean Type:**\tbool\n",
    "\n",
    "**Binary Types:**\tbytes, bytearray, memoryview"
   ]
  },
  {
   "cell_type": "markdown",
   "id": "cd11a993-7c0f-424a-87d6-79e53c15d1fe",
   "metadata": {},
   "source": [
    "### Get the Type of a Variable\n",
    "You can get the data type of a variable with the type() function."
   ]
  },
  {
   "cell_type": "code",
   "execution_count": 10,
   "id": "3384a3bf-62be-491b-9f3d-cadc640a51ae",
   "metadata": {},
   "outputs": [
    {
     "name": "stdout",
     "output_type": "stream",
     "text": [
      "<class 'int'>\n",
      "<class 'str'>\n"
     ]
    }
   ],
   "source": [
    "x = 5\n",
    "y = \"John\"\n",
    "print(type(x))\n",
    "print(type(y))"
   ]
  },
  {
   "cell_type": "code",
   "execution_count": null,
   "id": "b1315c83-6860-486b-abc9-b90b4e63c9f4",
   "metadata": {},
   "outputs": [],
   "source": []
  }
 ],
 "metadata": {
  "kernelspec": {
   "display_name": "Python 3 (ipykernel)",
   "language": "python",
   "name": "python3"
  },
  "language_info": {
   "codemirror_mode": {
    "name": "ipython",
    "version": 3
   },
   "file_extension": ".py",
   "mimetype": "text/x-python",
   "name": "python",
   "nbconvert_exporter": "python",
   "pygments_lexer": "ipython3",
   "version": "3.10.6"
  }
 },
 "nbformat": 4,
 "nbformat_minor": 5
}
